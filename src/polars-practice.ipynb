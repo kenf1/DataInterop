{
 "cells": [
  {
   "cell_type": "code",
   "execution_count": 169,
   "metadata": {},
   "outputs": [],
   "source": [
    "#base contains base_path\n",
    "from base import *\n",
    "\n",
    "import os\n",
    "import polars as pl"
   ]
  },
  {
   "cell_type": "code",
   "execution_count": 170,
   "metadata": {},
   "outputs": [],
   "source": [
    "#print nrows & ncols of df\n",
    "def df_dim(df):\n",
    "    print(\"Num rows: \"+str(len(df)))\n",
    "    print(\"Num cols: \"+str(len(df.columns)))"
   ]
  },
  {
   "cell_type": "code",
   "execution_count": 171,
   "metadata": {},
   "outputs": [
    {
     "name": "stdout",
     "output_type": "stream",
     "text": [
      "['survey_results_public.csv', 'survey_results_schema.csv', 'README_2022.txt']\n"
     ]
    }
   ],
   "source": [
    "#store everything in class\n",
    "class metadata:\n",
    "    full_path = base_path+\"SO2023/\"\n",
    "    contents = os.listdir(full_path)\n",
    "\n",
    "print(metadata.contents)"
   ]
  },
  {
   "cell_type": "code",
   "execution_count": 172,
   "metadata": {},
   "outputs": [
    {
     "name": "stdout",
     "output_type": "stream",
     "text": [
      "Num rows: 73268\n",
      "Num cols: 79\n"
     ]
    }
   ],
   "source": [
    "#create full paths\n",
    "metadata.dataset = metadata.full_path+metadata.contents[0]\n",
    "metadata.dict = metadata.full_path+metadata.contents[1]\n",
    "\n",
    "metadata.df = pl.read_csv(metadata.dataset)\n",
    "\n",
    "df_dim(metadata.df)"
   ]
  },
  {
   "cell_type": "code",
   "execution_count": 173,
   "metadata": {},
   "outputs": [
    {
     "data": {
      "text/html": [
       "<div><style>\n",
       ".dataframe > thead > tr > th,\n",
       ".dataframe > tbody > tr > td {\n",
       "  text-align: right;\n",
       "}\n",
       "</style>\n",
       "<small>shape: (5, 79)</small><table border=\"1\" class=\"dataframe\"><thead><tr><th>ResponseId</th><th>MainBranch</th><th>Employment</th><th>RemoteWork</th><th>CodingActivities</th><th>EdLevel</th><th>LearnCode</th><th>LearnCodeOnline</th><th>LearnCodeCoursesCert</th><th>YearsCode</th><th>YearsCodePro</th><th>DevType</th><th>OrgSize</th><th>PurchaseInfluence</th><th>BuyNewTool</th><th>Country</th><th>Currency</th><th>CompTotal</th><th>CompFreq</th><th>LanguageHaveWorkedWith</th><th>LanguageWantToWorkWith</th><th>DatabaseHaveWorkedWith</th><th>DatabaseWantToWorkWith</th><th>PlatformHaveWorkedWith</th><th>PlatformWantToWorkWith</th><th>WebframeHaveWorkedWith</th><th>WebframeWantToWorkWith</th><th>MiscTechHaveWorkedWith</th><th>MiscTechWantToWorkWith</th><th>ToolsTechHaveWorkedWith</th><th>ToolsTechWantToWorkWith</th><th>NEWCollabToolsHaveWorkedWith</th><th>NEWCollabToolsWantToWorkWith</th><th>OpSysProfessional use</th><th>OpSysPersonal use</th><th>VersionControlSystem</th><th>VCInteraction</th><th>&hellip;</th><th>OfficeStackSyncWantToWorkWith</th><th>Blockchain</th><th>NEWSOSites</th><th>SOVisitFreq</th><th>SOAccount</th><th>SOPartFreq</th><th>SOComm</th><th>Age</th><th>Gender</th><th>Trans</th><th>Sexuality</th><th>Ethnicity</th><th>Accessibility</th><th>MentalHealth</th><th>TBranch</th><th>ICorPM</th><th>WorkExp</th><th>Knowledge_1</th><th>Knowledge_2</th><th>Knowledge_3</th><th>Knowledge_4</th><th>Knowledge_5</th><th>Knowledge_6</th><th>Knowledge_7</th><th>Frequency_1</th><th>Frequency_2</th><th>Frequency_3</th><th>TimeSearching</th><th>TimeAnswering</th><th>Onboarding</th><th>ProfessionalTech</th><th>TrueFalse_1</th><th>TrueFalse_2</th><th>TrueFalse_3</th><th>SurveyLength</th><th>SurveyEase</th><th>ConvertedCompYearly</th></tr><tr><td>i64</td><td>str</td><td>str</td><td>str</td><td>str</td><td>str</td><td>str</td><td>str</td><td>str</td><td>str</td><td>str</td><td>str</td><td>str</td><td>str</td><td>str</td><td>str</td><td>str</td><td>str</td><td>str</td><td>str</td><td>str</td><td>str</td><td>str</td><td>str</td><td>str</td><td>str</td><td>str</td><td>str</td><td>str</td><td>str</td><td>str</td><td>str</td><td>str</td><td>str</td><td>str</td><td>str</td><td>str</td><td>&hellip;</td><td>str</td><td>str</td><td>str</td><td>str</td><td>str</td><td>str</td><td>str</td><td>str</td><td>str</td><td>str</td><td>str</td><td>str</td><td>str</td><td>str</td><td>str</td><td>str</td><td>str</td><td>str</td><td>str</td><td>str</td><td>str</td><td>str</td><td>str</td><td>str</td><td>str</td><td>str</td><td>str</td><td>str</td><td>str</td><td>str</td><td>str</td><td>str</td><td>str</td><td>str</td><td>str</td><td>str</td><td>str</td></tr></thead><tbody><tr><td>1</td><td>&quot;None of these&quot;</td><td>&quot;NA&quot;</td><td>&quot;NA&quot;</td><td>&quot;NA&quot;</td><td>&quot;NA&quot;</td><td>&quot;NA&quot;</td><td>&quot;NA&quot;</td><td>&quot;NA&quot;</td><td>&quot;NA&quot;</td><td>&quot;NA&quot;</td><td>&quot;NA&quot;</td><td>&quot;NA&quot;</td><td>&quot;NA&quot;</td><td>&quot;NA&quot;</td><td>&quot;NA&quot;</td><td>&quot;NA&quot;</td><td>&quot;NA&quot;</td><td>&quot;NA&quot;</td><td>&quot;NA&quot;</td><td>&quot;NA&quot;</td><td>&quot;NA&quot;</td><td>&quot;NA&quot;</td><td>&quot;NA&quot;</td><td>&quot;NA&quot;</td><td>&quot;NA&quot;</td><td>&quot;NA&quot;</td><td>&quot;NA&quot;</td><td>&quot;NA&quot;</td><td>&quot;NA&quot;</td><td>&quot;NA&quot;</td><td>&quot;NA&quot;</td><td>&quot;NA&quot;</td><td>&quot;NA&quot;</td><td>&quot;NA&quot;</td><td>&quot;NA&quot;</td><td>&quot;NA&quot;</td><td>&hellip;</td><td>&quot;NA&quot;</td><td>&quot;NA&quot;</td><td>&quot;NA&quot;</td><td>&quot;NA&quot;</td><td>&quot;NA&quot;</td><td>&quot;NA&quot;</td><td>&quot;NA&quot;</td><td>&quot;NA&quot;</td><td>&quot;NA&quot;</td><td>&quot;NA&quot;</td><td>&quot;NA&quot;</td><td>&quot;NA&quot;</td><td>&quot;NA&quot;</td><td>&quot;NA&quot;</td><td>&quot;NA&quot;</td><td>&quot;NA&quot;</td><td>&quot;NA&quot;</td><td>&quot;NA&quot;</td><td>&quot;NA&quot;</td><td>&quot;NA&quot;</td><td>&quot;NA&quot;</td><td>&quot;NA&quot;</td><td>&quot;NA&quot;</td><td>&quot;NA&quot;</td><td>&quot;NA&quot;</td><td>&quot;NA&quot;</td><td>&quot;NA&quot;</td><td>&quot;NA&quot;</td><td>&quot;NA&quot;</td><td>&quot;NA&quot;</td><td>&quot;NA&quot;</td><td>&quot;NA&quot;</td><td>&quot;NA&quot;</td><td>&quot;NA&quot;</td><td>&quot;NA&quot;</td><td>&quot;NA&quot;</td><td>&quot;NA&quot;</td></tr><tr><td>2</td><td>&quot;I am a develop…</td><td>&quot;Employed, full…</td><td>&quot;Fully remote&quot;</td><td>&quot;Hobby;Contribu…</td><td>&quot;NA&quot;</td><td>&quot;NA&quot;</td><td>&quot;NA&quot;</td><td>&quot;NA&quot;</td><td>&quot;NA&quot;</td><td>&quot;NA&quot;</td><td>&quot;NA&quot;</td><td>&quot;NA&quot;</td><td>&quot;NA&quot;</td><td>&quot;NA&quot;</td><td>&quot;Canada&quot;</td><td>&quot;CAD\tCanadian d…</td><td>&quot;NA&quot;</td><td>&quot;NA&quot;</td><td>&quot;JavaScript;Typ…</td><td>&quot;Rust;TypeScrip…</td><td>&quot;NA&quot;</td><td>&quot;NA&quot;</td><td>&quot;NA&quot;</td><td>&quot;NA&quot;</td><td>&quot;NA&quot;</td><td>&quot;NA&quot;</td><td>&quot;NA&quot;</td><td>&quot;NA&quot;</td><td>&quot;NA&quot;</td><td>&quot;NA&quot;</td><td>&quot;NA&quot;</td><td>&quot;NA&quot;</td><td>&quot;macOS&quot;</td><td>&quot;Windows Subsys…</td><td>&quot;Git&quot;</td><td>&quot;NA&quot;</td><td>&hellip;</td><td>&quot;NA&quot;</td><td>&quot;Very unfavorab…</td><td>&quot;Collectives on…</td><td>&quot;Daily or almos…</td><td>&quot;Yes&quot;</td><td>&quot;Daily or almos…</td><td>&quot;Not sure&quot;</td><td>&quot;NA&quot;</td><td>&quot;NA&quot;</td><td>&quot;NA&quot;</td><td>&quot;NA&quot;</td><td>&quot;NA&quot;</td><td>&quot;NA&quot;</td><td>&quot;NA&quot;</td><td>&quot;No&quot;</td><td>&quot;NA&quot;</td><td>&quot;NA&quot;</td><td>&quot;NA&quot;</td><td>&quot;NA&quot;</td><td>&quot;NA&quot;</td><td>&quot;NA&quot;</td><td>&quot;NA&quot;</td><td>&quot;NA&quot;</td><td>&quot;NA&quot;</td><td>&quot;NA&quot;</td><td>&quot;NA&quot;</td><td>&quot;NA&quot;</td><td>&quot;NA&quot;</td><td>&quot;NA&quot;</td><td>&quot;NA&quot;</td><td>&quot;NA&quot;</td><td>&quot;NA&quot;</td><td>&quot;NA&quot;</td><td>&quot;NA&quot;</td><td>&quot;Too long&quot;</td><td>&quot;Difficult&quot;</td><td>&quot;NA&quot;</td></tr><tr><td>3</td><td>&quot;I am not prima…</td><td>&quot;Employed, full…</td><td>&quot;Hybrid (some r…</td><td>&quot;Hobby&quot;</td><td>&quot;Master’s degre…</td><td>&quot;Books / Physic…</td><td>&quot;Technical docu…</td><td>&quot;NA&quot;</td><td>&quot;14&quot;</td><td>&quot;5&quot;</td><td>&quot;Data scientist…</td><td>&quot;20 to 99 emplo…</td><td>&quot;I have some in…</td><td>&quot;NA&quot;</td><td>&quot;United Kingdom…</td><td>&quot;GBP\tPound ster…</td><td>&quot;32000&quot;</td><td>&quot;Yearly&quot;</td><td>&quot;C#;C++;HTML/CS…</td><td>&quot;C#;C++;HTML/CS…</td><td>&quot;Microsoft SQL …</td><td>&quot;Microsoft SQL …</td><td>&quot;NA&quot;</td><td>&quot;NA&quot;</td><td>&quot;Angular.js&quot;</td><td>&quot;Angular;Angula…</td><td>&quot;Pandas&quot;</td><td>&quot;.NET&quot;</td><td>&quot;NA&quot;</td><td>&quot;NA&quot;</td><td>&quot;Notepad++;Visu…</td><td>&quot;Notepad++;Visu…</td><td>&quot;Windows&quot;</td><td>&quot;Windows&quot;</td><td>&quot;Git&quot;</td><td>&quot;Code editor&quot;</td><td>&hellip;</td><td>&quot;Microsoft Team…</td><td>&quot;Very unfavorab…</td><td>&quot;Collectives on…</td><td>&quot;Multiple times…</td><td>&quot;Yes&quot;</td><td>&quot;Multiple times…</td><td>&quot;Neutral&quot;</td><td>&quot;25-34 years ol…</td><td>&quot;Man&quot;</td><td>&quot;No&quot;</td><td>&quot;Bisexual&quot;</td><td>&quot;White&quot;</td><td>&quot;None of the ab…</td><td>&quot;I have a mood …</td><td>&quot;No&quot;</td><td>&quot;NA&quot;</td><td>&quot;NA&quot;</td><td>&quot;NA&quot;</td><td>&quot;NA&quot;</td><td>&quot;NA&quot;</td><td>&quot;NA&quot;</td><td>&quot;NA&quot;</td><td>&quot;NA&quot;</td><td>&quot;NA&quot;</td><td>&quot;NA&quot;</td><td>&quot;NA&quot;</td><td>&quot;NA&quot;</td><td>&quot;NA&quot;</td><td>&quot;NA&quot;</td><td>&quot;NA&quot;</td><td>&quot;NA&quot;</td><td>&quot;NA&quot;</td><td>&quot;NA&quot;</td><td>&quot;NA&quot;</td><td>&quot;Appropriate in…</td><td>&quot;Neither easy n…</td><td>&quot;40205&quot;</td></tr><tr><td>4</td><td>&quot;I am a develop…</td><td>&quot;Employed, full…</td><td>&quot;Fully remote&quot;</td><td>&quot;I don’t code o…</td><td>&quot;Bachelor’s deg…</td><td>&quot;Books / Physic…</td><td>&quot;NA&quot;</td><td>&quot;NA&quot;</td><td>&quot;20&quot;</td><td>&quot;17&quot;</td><td>&quot;Developer, ful…</td><td>&quot;100 to 499 emp…</td><td>&quot;I have some in…</td><td>&quot;Other (please …</td><td>&quot;Israel&quot;</td><td>&quot;ILS\tIsraeli ne…</td><td>&quot;60000&quot;</td><td>&quot;Monthly&quot;</td><td>&quot;C#;JavaScript;…</td><td>&quot;C#;SQL;TypeScr…</td><td>&quot;Microsoft SQL …</td><td>&quot;Microsoft SQL …</td><td>&quot;NA&quot;</td><td>&quot;NA&quot;</td><td>&quot;ASP.NET;ASP.NE…</td><td>&quot;ASP.NET;ASP.NE…</td><td>&quot;.NET&quot;</td><td>&quot;.NET&quot;</td><td>&quot;NA&quot;</td><td>&quot;NA&quot;</td><td>&quot;Notepad++;Visu…</td><td>&quot;Notepad++;Visu…</td><td>&quot;Windows&quot;</td><td>&quot;Windows&quot;</td><td>&quot;Git&quot;</td><td>&quot;Code editor;Co…</td><td>&hellip;</td><td>&quot;Slack;Zoom&quot;</td><td>&quot;Very unfavorab…</td><td>&quot;Collectives on…</td><td>&quot;Daily or almos…</td><td>&quot;Yes&quot;</td><td>&quot;A few times pe…</td><td>&quot;Yes, definitel…</td><td>&quot;35-44 years ol…</td><td>&quot;Man&quot;</td><td>&quot;No&quot;</td><td>&quot;Straight / Het…</td><td>&quot;White&quot;</td><td>&quot;None of the ab…</td><td>&quot;None of the ab…</td><td>&quot;No&quot;</td><td>&quot;NA&quot;</td><td>&quot;NA&quot;</td><td>&quot;NA&quot;</td><td>&quot;NA&quot;</td><td>&quot;NA&quot;</td><td>&quot;NA&quot;</td><td>&quot;NA&quot;</td><td>&quot;NA&quot;</td><td>&quot;NA&quot;</td><td>&quot;NA&quot;</td><td>&quot;NA&quot;</td><td>&quot;NA&quot;</td><td>&quot;NA&quot;</td><td>&quot;NA&quot;</td><td>&quot;NA&quot;</td><td>&quot;NA&quot;</td><td>&quot;NA&quot;</td><td>&quot;NA&quot;</td><td>&quot;NA&quot;</td><td>&quot;Appropriate in…</td><td>&quot;Easy&quot;</td><td>&quot;215232&quot;</td></tr><tr><td>5</td><td>&quot;I am a develop…</td><td>&quot;Employed, full…</td><td>&quot;Hybrid (some r…</td><td>&quot;Hobby&quot;</td><td>&quot;Bachelor’s deg…</td><td>&quot;Other online r…</td><td>&quot;Technical docu…</td><td>&quot;NA&quot;</td><td>&quot;8&quot;</td><td>&quot;3&quot;</td><td>&quot;Developer, fro…</td><td>&quot;20 to 99 emplo…</td><td>&quot;I have some in…</td><td>&quot;Start a free t…</td><td>&quot;United States …</td><td>&quot;USD\tUnited Sta…</td><td>&quot;NA&quot;</td><td>&quot;NA&quot;</td><td>&quot;C#;HTML/CSS;Ja…</td><td>&quot;C#;Elixir;F#;G…</td><td>&quot;Cloud Firestor…</td><td>&quot;Cloud Firestor…</td><td>&quot;Firebase;Micro…</td><td>&quot;Firebase;Micro…</td><td>&quot;Angular;ASP.NE…</td><td>&quot;Angular;ASP.NE…</td><td>&quot;.NET&quot;</td><td>&quot;.NET;Apache Ka…</td><td>&quot;npm&quot;</td><td>&quot;Docker;Kuberne…</td><td>&quot;Notepad++;Visu…</td><td>&quot;Rider;Visual S…</td><td>&quot;Windows&quot;</td><td>&quot;macOS;Windows&quot;</td><td>&quot;Git;Other (ple…</td><td>&quot;Code editor&quot;</td><td>&hellip;</td><td>&quot;NA&quot;</td><td>&quot;Unfavorable&quot;</td><td>&quot;Collectives on…</td><td>&quot;Multiple times…</td><td>&quot;Yes&quot;</td><td>&quot;Daily or almos…</td><td>&quot;Yes, definitel…</td><td>&quot;25-34 years ol…</td><td>&quot;NA&quot;</td><td>&quot;NA&quot;</td><td>&quot;NA&quot;</td><td>&quot;NA&quot;</td><td>&quot;NA&quot;</td><td>&quot;NA&quot;</td><td>&quot;No&quot;</td><td>&quot;NA&quot;</td><td>&quot;NA&quot;</td><td>&quot;NA&quot;</td><td>&quot;NA&quot;</td><td>&quot;NA&quot;</td><td>&quot;NA&quot;</td><td>&quot;NA&quot;</td><td>&quot;NA&quot;</td><td>&quot;NA&quot;</td><td>&quot;NA&quot;</td><td>&quot;NA&quot;</td><td>&quot;NA&quot;</td><td>&quot;NA&quot;</td><td>&quot;NA&quot;</td><td>&quot;NA&quot;</td><td>&quot;NA&quot;</td><td>&quot;NA&quot;</td><td>&quot;NA&quot;</td><td>&quot;NA&quot;</td><td>&quot;Too long&quot;</td><td>&quot;Easy&quot;</td><td>&quot;NA&quot;</td></tr></tbody></table></div>"
      ],
      "text/plain": [
       "shape: (5, 79)\n",
       "┌───────────┬───────────┬───────────┬───────────┬───┬───────────┬───────────┬───────────┬──────────┐\n",
       "│ ResponseI ┆ MainBranc ┆ Employmen ┆ RemoteWor ┆ … ┆ TrueFalse ┆ SurveyLen ┆ SurveyEas ┆ Converte │\n",
       "│ d         ┆ h         ┆ t         ┆ k         ┆   ┆ _3        ┆ gth       ┆ e         ┆ dCompYea │\n",
       "│ ---       ┆ ---       ┆ ---       ┆ ---       ┆   ┆ ---       ┆ ---       ┆ ---       ┆ rly      │\n",
       "│ i64       ┆ str       ┆ str       ┆ str       ┆   ┆ str       ┆ str       ┆ str       ┆ ---      │\n",
       "│           ┆           ┆           ┆           ┆   ┆           ┆           ┆           ┆ str      │\n",
       "╞═══════════╪═══════════╪═══════════╪═══════════╪═══╪═══════════╪═══════════╪═══════════╪══════════╡\n",
       "│ 1         ┆ None of   ┆ NA        ┆ NA        ┆ … ┆ NA        ┆ NA        ┆ NA        ┆ NA       │\n",
       "│           ┆ these     ┆           ┆           ┆   ┆           ┆           ┆           ┆          │\n",
       "│ 2         ┆ I am a    ┆ Employed, ┆ Fully     ┆ … ┆ NA        ┆ Too long  ┆ Difficult ┆ NA       │\n",
       "│           ┆ developer ┆ full-time ┆ remote    ┆   ┆           ┆           ┆           ┆          │\n",
       "│           ┆ by profes ┆           ┆           ┆   ┆           ┆           ┆           ┆          │\n",
       "│           ┆ sion      ┆           ┆           ┆   ┆           ┆           ┆           ┆          │\n",
       "│ 3         ┆ I am not  ┆ Employed, ┆ Hybrid    ┆ … ┆ NA        ┆ Appropria ┆ Neither   ┆ 40205    │\n",
       "│           ┆ primarily ┆ full-time ┆ (some     ┆   ┆           ┆ te in     ┆ easy nor  ┆          │\n",
       "│           ┆ a develop ┆           ┆ remote,   ┆   ┆           ┆ length    ┆ difficult ┆          │\n",
       "│           ┆ er, …     ┆           ┆ some      ┆   ┆           ┆           ┆           ┆          │\n",
       "│           ┆           ┆           ┆ in-per…   ┆   ┆           ┆           ┆           ┆          │\n",
       "│ 4         ┆ I am a    ┆ Employed, ┆ Fully     ┆ … ┆ NA        ┆ Appropria ┆ Easy      ┆ 215232   │\n",
       "│           ┆ developer ┆ full-time ┆ remote    ┆   ┆           ┆ te in     ┆           ┆          │\n",
       "│           ┆ by profes ┆           ┆           ┆   ┆           ┆ length    ┆           ┆          │\n",
       "│           ┆ sion      ┆           ┆           ┆   ┆           ┆           ┆           ┆          │\n",
       "│ 5         ┆ I am a    ┆ Employed, ┆ Hybrid    ┆ … ┆ NA        ┆ Too long  ┆ Easy      ┆ NA       │\n",
       "│           ┆ developer ┆ full-time ┆ (some     ┆   ┆           ┆           ┆           ┆          │\n",
       "│           ┆ by profes ┆           ┆ remote,   ┆   ┆           ┆           ┆           ┆          │\n",
       "│           ┆ sion      ┆           ┆ some      ┆   ┆           ┆           ┆           ┆          │\n",
       "│           ┆           ┆           ┆ in-per…   ┆   ┆           ┆           ┆           ┆          │\n",
       "└───────────┴───────────┴───────────┴───────────┴───┴───────────┴───────────┴───────────┴──────────┘"
      ]
     },
     "execution_count": 173,
     "metadata": {},
     "output_type": "execute_result"
    }
   ],
   "source": [
    "metadata.df.head()"
   ]
  },
  {
   "cell_type": "code",
   "execution_count": 174,
   "metadata": {},
   "outputs": [
    {
     "name": "stdout",
     "output_type": "stream",
     "text": [
      "Num rows: 13543\n",
      "Num cols: 60\n"
     ]
    }
   ],
   "source": [
    "#filter for USA\n",
    "# rm cols\n",
    "metadata.df = metadata.df.filter(\n",
    "    pl.col(\"Country\")==\"United States of America\"\n",
    ").drop(\n",
    "    \"Blockchain\",\"Trans\",\"Sexuality\",\"Ethnicity\",\"Accessibility\",\"MentalHealth\",\n",
    "    \"TBranch\",\"Currency\",\"NEWSOSites\",\"SOVisitFreq\",\"SOAccount\",\"SOPartFreq\",\"SOComm\",\n",
    "    \"SurveyLength\",\"SurveyEase\"\n",
    ").drop(\n",
    "    \"OfficeStackAsyncHaveWorkedWith\",\"OfficeStackAsyncWantToWorkWith\",\n",
    "    \"OfficeStackSyncHaveWorkedWith\",\"OfficeStackSyncWantToWorkWith\"\n",
    ")\n",
    "\n",
    "df_dim(metadata.df)"
   ]
  },
  {
   "cell_type": "code",
   "execution_count": 175,
   "metadata": {},
   "outputs": [
    {
     "data": {
      "text/html": [
       "<div><style>\n",
       ".dataframe > thead > tr > th,\n",
       ".dataframe > tbody > tr > td {\n",
       "  text-align: right;\n",
       "}\n",
       "</style>\n",
       "<small>shape: (5, 60)</small><table border=\"1\" class=\"dataframe\"><thead><tr><th>ResponseId</th><th>MainBranch</th><th>Employment</th><th>RemoteWork</th><th>CodingActivities</th><th>EdLevel</th><th>LearnCode</th><th>LearnCodeOnline</th><th>LearnCodeCoursesCert</th><th>YearsCode</th><th>YearsCodePro</th><th>DevType</th><th>OrgSize</th><th>PurchaseInfluence</th><th>BuyNewTool</th><th>Country</th><th>CompTotal</th><th>CompFreq</th><th>LanguageHaveWorkedWith</th><th>LanguageWantToWorkWith</th><th>DatabaseHaveWorkedWith</th><th>DatabaseWantToWorkWith</th><th>PlatformHaveWorkedWith</th><th>PlatformWantToWorkWith</th><th>WebframeHaveWorkedWith</th><th>WebframeWantToWorkWith</th><th>MiscTechHaveWorkedWith</th><th>MiscTechWantToWorkWith</th><th>ToolsTechHaveWorkedWith</th><th>ToolsTechWantToWorkWith</th><th>NEWCollabToolsHaveWorkedWith</th><th>NEWCollabToolsWantToWorkWith</th><th>OpSysProfessional use</th><th>OpSysPersonal use</th><th>VersionControlSystem</th><th>VCInteraction</th><th>VCHostingPersonal use</th><th>VCHostingProfessional use</th><th>Age</th><th>Gender</th><th>ICorPM</th><th>WorkExp</th><th>Knowledge_1</th><th>Knowledge_2</th><th>Knowledge_3</th><th>Knowledge_4</th><th>Knowledge_5</th><th>Knowledge_6</th><th>Knowledge_7</th><th>Frequency_1</th><th>Frequency_2</th><th>Frequency_3</th><th>TimeSearching</th><th>TimeAnswering</th><th>Onboarding</th><th>ProfessionalTech</th><th>TrueFalse_1</th><th>TrueFalse_2</th><th>TrueFalse_3</th><th>ConvertedCompYearly</th></tr><tr><td>i64</td><td>str</td><td>str</td><td>str</td><td>str</td><td>str</td><td>str</td><td>str</td><td>str</td><td>str</td><td>str</td><td>str</td><td>str</td><td>str</td><td>str</td><td>str</td><td>str</td><td>str</td><td>str</td><td>str</td><td>str</td><td>str</td><td>str</td><td>str</td><td>str</td><td>str</td><td>str</td><td>str</td><td>str</td><td>str</td><td>str</td><td>str</td><td>str</td><td>str</td><td>str</td><td>str</td><td>str</td><td>str</td><td>str</td><td>str</td><td>str</td><td>str</td><td>str</td><td>str</td><td>str</td><td>str</td><td>str</td><td>str</td><td>str</td><td>str</td><td>str</td><td>str</td><td>str</td><td>str</td><td>str</td><td>str</td><td>str</td><td>str</td><td>str</td><td>str</td></tr></thead><tbody><tr><td>5</td><td>&quot;I am a develop…</td><td>&quot;Employed, full…</td><td>&quot;Hybrid (some r…</td><td>&quot;Hobby&quot;</td><td>&quot;Bachelor’s deg…</td><td>&quot;Other online r…</td><td>&quot;Technical docu…</td><td>&quot;NA&quot;</td><td>&quot;8&quot;</td><td>&quot;3&quot;</td><td>&quot;Developer, fro…</td><td>&quot;20 to 99 emplo…</td><td>&quot;I have some in…</td><td>&quot;Start a free t…</td><td>&quot;United States …</td><td>&quot;NA&quot;</td><td>&quot;NA&quot;</td><td>&quot;C#;HTML/CSS;Ja…</td><td>&quot;C#;Elixir;F#;G…</td><td>&quot;Cloud Firestor…</td><td>&quot;Cloud Firestor…</td><td>&quot;Firebase;Micro…</td><td>&quot;Firebase;Micro…</td><td>&quot;Angular;ASP.NE…</td><td>&quot;Angular;ASP.NE…</td><td>&quot;.NET&quot;</td><td>&quot;.NET;Apache Ka…</td><td>&quot;npm&quot;</td><td>&quot;Docker;Kuberne…</td><td>&quot;Notepad++;Visu…</td><td>&quot;Rider;Visual S…</td><td>&quot;Windows&quot;</td><td>&quot;macOS;Windows&quot;</td><td>&quot;Git;Other (ple…</td><td>&quot;Code editor&quot;</td><td>null</td><td>null</td><td>&quot;25-34 years ol…</td><td>&quot;NA&quot;</td><td>&quot;NA&quot;</td><td>&quot;NA&quot;</td><td>&quot;NA&quot;</td><td>&quot;NA&quot;</td><td>&quot;NA&quot;</td><td>&quot;NA&quot;</td><td>&quot;NA&quot;</td><td>&quot;NA&quot;</td><td>&quot;NA&quot;</td><td>&quot;NA&quot;</td><td>&quot;NA&quot;</td><td>&quot;NA&quot;</td><td>&quot;NA&quot;</td><td>&quot;NA&quot;</td><td>&quot;NA&quot;</td><td>&quot;NA&quot;</td><td>&quot;NA&quot;</td><td>&quot;NA&quot;</td><td>&quot;NA&quot;</td><td>&quot;NA&quot;</td></tr><tr><td>12</td><td>&quot;I am not prima…</td><td>&quot;Employed, full…</td><td>&quot;Fully remote&quot;</td><td>&quot;Hobby;Contribu…</td><td>&quot;Bachelor’s deg…</td><td>&quot;Other online r…</td><td>&quot;Technical docu…</td><td>&quot;NA&quot;</td><td>&quot;12&quot;</td><td>&quot;10&quot;</td><td>&quot;Engineering ma…</td><td>&quot;20 to 99 emplo…</td><td>&quot;I have some in…</td><td>&quot;Start a free t…</td><td>&quot;United States …</td><td>&quot;194400&quot;</td><td>&quot;Yearly&quot;</td><td>&quot;C#;HTML/CSS;Ja…</td><td>&quot;C++;Go;HTML/CS…</td><td>&quot;Couchbase;Couc…</td><td>&quot;Elasticsearch;…</td><td>&quot;AWS;Microsoft …</td><td>&quot;AWS;DigitalOce…</td><td>&quot;ASP.NET;ASP.NE…</td><td>&quot;ASP.NET Core ;…</td><td>&quot;.NET;Keras;Num…</td><td>&quot;Keras;NumPy;Pa…</td><td>&quot;Docker;Homebre…</td><td>&quot;Docker;Homebre…</td><td>&quot;IPython/Jupyte…</td><td>&quot;IPython/Jupyte…</td><td>&quot;Linux-based;ma…</td><td>&quot;Linux-based;ma…</td><td>&quot;Git&quot;</td><td>&quot;Code editor;De…</td><td>null</td><td>null</td><td>&quot;35-44 years ol…</td><td>&quot;Man&quot;</td><td>&quot;People manager…</td><td>&quot;14&quot;</td><td>&quot;Strongly agree…</td><td>&quot;Agree&quot;</td><td>&quot;Disagree&quot;</td><td>&quot;Agree&quot;</td><td>&quot;Agree&quot;</td><td>&quot;Agree&quot;</td><td>&quot;Agree&quot;</td><td>&quot;10+ times a we…</td><td>&quot;10+ times a we…</td><td>&quot;3-5 times a we…</td><td>&quot;30-60 minutes …</td><td>&quot;60-120 minutes…</td><td>&quot;Just right&quot;</td><td>&quot;Innersource in…</td><td>&quot;Yes&quot;</td><td>&quot;Yes&quot;</td><td>&quot;No&quot;</td><td>&quot;194400&quot;</td></tr><tr><td>13</td><td>&quot;I am a develop…</td><td>&quot;Employed, full…</td><td>&quot;Hybrid (some r…</td><td>&quot;Hobby&quot;</td><td>&quot;Bachelor’s deg…</td><td>&quot;School (i.e., …</td><td>&quot;NA&quot;</td><td>&quot;NA&quot;</td><td>&quot;12&quot;</td><td>&quot;5&quot;</td><td>&quot;Developer, ful…</td><td>&quot;2 to 9 employe…</td><td>&quot;I have a great…</td><td>&quot;Visit develope…</td><td>&quot;United States …</td><td>&quot;65000&quot;</td><td>&quot;Yearly&quot;</td><td>&quot;C;HTML/CSS;Rus…</td><td>&quot;Haskell;HTML/C…</td><td>&quot;PostgreSQL&quot;</td><td>&quot;Elasticsearch;…</td><td>&quot;AWS&quot;</td><td>&quot;AWS&quot;</td><td>&quot;React.js&quot;</td><td>&quot;React.js&quot;</td><td>&quot;Torch/PyTorch&quot;</td><td>&quot;Torch/PyTorch&quot;</td><td>&quot;Docker&quot;</td><td>&quot;Docker&quot;</td><td>&quot;Vim;Visual Stu…</td><td>&quot;Vim;Visual Stu…</td><td>&quot;macOS&quot;</td><td>&quot;Linux-based&quot;</td><td>&quot;Git&quot;</td><td>&quot;Code editor;Co…</td><td>null</td><td>null</td><td>&quot;25-34 years ol…</td><td>&quot;Man&quot;</td><td>&quot;Independent co…</td><td>&quot;5&quot;</td><td>&quot;Neither agree …</td><td>&quot;Disagree&quot;</td><td>&quot;Strongly agree…</td><td>&quot;Strongly agree…</td><td>&quot;Strongly agree…</td><td>&quot;Agree&quot;</td><td>&quot;Disagree&quot;</td><td>&quot;Never&quot;</td><td>&quot;Never&quot;</td><td>&quot;Never&quot;</td><td>&quot;30-60 minutes …</td><td>&quot;Less than 15 m…</td><td>&quot;Somewhat short…</td><td>&quot;DevOps functio…</td><td>&quot;Yes&quot;</td><td>&quot;No&quot;</td><td>&quot;Yes&quot;</td><td>&quot;65000&quot;</td></tr><tr><td>15</td><td>&quot;I am a develop…</td><td>&quot;Employed, full…</td><td>&quot;Fully remote&quot;</td><td>&quot;Hobby;Freelanc…</td><td>&quot;Master’s degre…</td><td>&quot;Other online r…</td><td>&quot;Written Tutori…</td><td>&quot;NA&quot;</td><td>&quot;11&quot;</td><td>&quot;5&quot;</td><td>&quot;Developer, ful…</td><td>&quot;5,000 to 9,999…</td><td>&quot;I have little …</td><td>&quot;Start a free t…</td><td>&quot;United States …</td><td>&quot;110000&quot;</td><td>&quot;Yearly&quot;</td><td>&quot;HTML/CSS;JavaS…</td><td>&quot;HTML/CSS;JavaS…</td><td>&quot;Elasticsearch;…</td><td>&quot;Elasticsearch;…</td><td>&quot;AWS;DigitalOce…</td><td>&quot;AWS&quot;</td><td>&quot;Django;Flask;j…</td><td>&quot;Django;FastAPI…</td><td>&quot;Apache Kafka;A…</td><td>&quot;Pandas&quot;</td><td>&quot;Docker;npm;Yar…</td><td>&quot;Docker;npm;Yar…</td><td>&quot;IPython/Jupyte…</td><td>&quot;Visual Studio …</td><td>&quot;macOS&quot;</td><td>&quot;macOS&quot;</td><td>&quot;Git&quot;</td><td>&quot;Code editor;Co…</td><td>null</td><td>null</td><td>&quot;25-34 years ol…</td><td>&quot;Man&quot;</td><td>&quot;Independent co…</td><td>&quot;5&quot;</td><td>&quot;Agree&quot;</td><td>&quot;Neither agree …</td><td>&quot;Neither agree …</td><td>&quot;Neither agree …</td><td>&quot;Neither agree …</td><td>&quot;Neither agree …</td><td>&quot;Neither agree …</td><td>&quot;1-2 times a we…</td><td>&quot;3-5 times a we…</td><td>&quot;1-2 times a we…</td><td>&quot;30-60 minutes …</td><td>&quot;30-60 minutes …</td><td>&quot;Somewhat long&quot;</td><td>&quot;DevOps functio…</td><td>&quot;No&quot;</td><td>&quot;Yes&quot;</td><td>&quot;Yes&quot;</td><td>&quot;110000&quot;</td></tr><tr><td>27</td><td>&quot;I am a develop…</td><td>&quot;Employed, full…</td><td>&quot;Hybrid (some r…</td><td>&quot;I don’t code o…</td><td>&quot;Bachelor’s deg…</td><td>&quot;Books / Physic…</td><td>&quot;Technical docu…</td><td>&quot;NA&quot;</td><td>&quot;10&quot;</td><td>&quot;5&quot;</td><td>&quot;Developer, ful…</td><td>&quot;20 to 99 emplo…</td><td>&quot;I have little …</td><td>&quot;Start a free t…</td><td>&quot;United States …</td><td>&quot;106960&quot;</td><td>&quot;Yearly&quot;</td><td>&quot;Bash/Shell;Gro…</td><td>&quot;Bash/Shell;Gro…</td><td>&quot;MongoDB;MySQL&quot;</td><td>&quot;MongoDB&quot;</td><td>&quot;AWS&quot;</td><td>&quot;AWS&quot;</td><td>&quot;jQuery&quot;</td><td>&quot;jQuery;React.j…</td><td>&quot;NA&quot;</td><td>&quot;NA&quot;</td><td>&quot;NA&quot;</td><td>&quot;NA&quot;</td><td>&quot;Atom;IntelliJ;…</td><td>&quot;Atom;IntelliJ;…</td><td>&quot;macOS&quot;</td><td>&quot;macOS;Windows&quot;</td><td>&quot;Git&quot;</td><td>&quot;Code editor;Co…</td><td>null</td><td>null</td><td>&quot;25-34 years ol…</td><td>&quot;Man&quot;</td><td>&quot;NA&quot;</td><td>&quot;NA&quot;</td><td>&quot;NA&quot;</td><td>&quot;NA&quot;</td><td>&quot;NA&quot;</td><td>&quot;NA&quot;</td><td>&quot;NA&quot;</td><td>&quot;NA&quot;</td><td>&quot;NA&quot;</td><td>&quot;NA&quot;</td><td>&quot;NA&quot;</td><td>&quot;NA&quot;</td><td>&quot;NA&quot;</td><td>&quot;NA&quot;</td><td>&quot;NA&quot;</td><td>&quot;NA&quot;</td><td>&quot;NA&quot;</td><td>&quot;NA&quot;</td><td>&quot;NA&quot;</td><td>&quot;106960&quot;</td></tr></tbody></table></div>"
      ],
      "text/plain": [
       "shape: (5, 60)\n",
       "┌───────────┬───────────┬───────────┬───────────┬───┬───────────┬───────────┬───────────┬──────────┐\n",
       "│ ResponseI ┆ MainBranc ┆ Employmen ┆ RemoteWor ┆ … ┆ TrueFalse ┆ TrueFalse ┆ TrueFalse ┆ Converte │\n",
       "│ d         ┆ h         ┆ t         ┆ k         ┆   ┆ _1        ┆ _2        ┆ _3        ┆ dCompYea │\n",
       "│ ---       ┆ ---       ┆ ---       ┆ ---       ┆   ┆ ---       ┆ ---       ┆ ---       ┆ rly      │\n",
       "│ i64       ┆ str       ┆ str       ┆ str       ┆   ┆ str       ┆ str       ┆ str       ┆ ---      │\n",
       "│           ┆           ┆           ┆           ┆   ┆           ┆           ┆           ┆ str      │\n",
       "╞═══════════╪═══════════╪═══════════╪═══════════╪═══╪═══════════╪═══════════╪═══════════╪══════════╡\n",
       "│ 5         ┆ I am a    ┆ Employed, ┆ Hybrid    ┆ … ┆ NA        ┆ NA        ┆ NA        ┆ NA       │\n",
       "│           ┆ developer ┆ full-time ┆ (some     ┆   ┆           ┆           ┆           ┆          │\n",
       "│           ┆ by profes ┆           ┆ remote,   ┆   ┆           ┆           ┆           ┆          │\n",
       "│           ┆ sion      ┆           ┆ some      ┆   ┆           ┆           ┆           ┆          │\n",
       "│           ┆           ┆           ┆ in-per…   ┆   ┆           ┆           ┆           ┆          │\n",
       "│ 12        ┆ I am not  ┆ Employed, ┆ Fully     ┆ … ┆ Yes       ┆ Yes       ┆ No        ┆ 194400   │\n",
       "│           ┆ primarily ┆ full-time ┆ remote    ┆   ┆           ┆           ┆           ┆          │\n",
       "│           ┆ a develop ┆ ;Independ ┆           ┆   ┆           ┆           ┆           ┆          │\n",
       "│           ┆ er, …     ┆ ent …     ┆           ┆   ┆           ┆           ┆           ┆          │\n",
       "│ 13        ┆ I am a    ┆ Employed, ┆ Hybrid    ┆ … ┆ Yes       ┆ No        ┆ Yes       ┆ 65000    │\n",
       "│           ┆ developer ┆ full-time ┆ (some     ┆   ┆           ┆           ┆           ┆          │\n",
       "│           ┆ by profes ┆           ┆ remote,   ┆   ┆           ┆           ┆           ┆          │\n",
       "│           ┆ sion      ┆           ┆ some      ┆   ┆           ┆           ┆           ┆          │\n",
       "│           ┆           ┆           ┆ in-per…   ┆   ┆           ┆           ┆           ┆          │\n",
       "│ 15        ┆ I am a    ┆ Employed, ┆ Fully     ┆ … ┆ No        ┆ Yes       ┆ Yes       ┆ 110000   │\n",
       "│           ┆ developer ┆ full-time ┆ remote    ┆   ┆           ┆           ┆           ┆          │\n",
       "│           ┆ by profes ┆ ;Independ ┆           ┆   ┆           ┆           ┆           ┆          │\n",
       "│           ┆ sion      ┆ ent …     ┆           ┆   ┆           ┆           ┆           ┆          │\n",
       "│ 27        ┆ I am a    ┆ Employed, ┆ Hybrid    ┆ … ┆ NA        ┆ NA        ┆ NA        ┆ 106960   │\n",
       "│           ┆ developer ┆ full-time ┆ (some     ┆   ┆           ┆           ┆           ┆          │\n",
       "│           ┆ by profes ┆           ┆ remote,   ┆   ┆           ┆           ┆           ┆          │\n",
       "│           ┆ sion      ┆           ┆ some      ┆   ┆           ┆           ┆           ┆          │\n",
       "│           ┆           ┆           ┆ in-per…   ┆   ┆           ┆           ┆           ┆          │\n",
       "└───────────┴───────────┴───────────┴───────────┴───┴───────────┴───────────┴───────────┴──────────┘"
      ]
     },
     "execution_count": 175,
     "metadata": {},
     "output_type": "execute_result"
    }
   ],
   "source": [
    "metadata.df.head()"
   ]
  },
  {
   "cell_type": "code",
   "execution_count": 176,
   "metadata": {},
   "outputs": [
    {
     "name": "stdout",
     "output_type": "stream",
     "text": [
      "Num rows: 13543\n",
      "Num cols: 5\n"
     ]
    },
    {
     "data": {
      "text/plain": [
       "(None,\n",
       " shape: (5, 5)\n",
       " ┌────────────┬──────────────────────┬──────────────────────┬─────────────────────┬─────────────────┐\n",
       " │ ResponseId ┆ MainBranch           ┆ Employment           ┆ EdLevel             ┆ Age             │\n",
       " │ ---        ┆ ---                  ┆ ---                  ┆ ---                 ┆ ---             │\n",
       " │ i64        ┆ str                  ┆ str                  ┆ str                 ┆ str             │\n",
       " ╞════════════╪══════════════════════╪══════════════════════╪═════════════════════╪═════════════════╡\n",
       " │ 5          ┆ I am a developer by  ┆ Employed, full-time  ┆ Bachelor’s degree   ┆ 25-34 years old │\n",
       " │            ┆ profession           ┆                      ┆ (B.A., B.S., B…     ┆                 │\n",
       " │ 12         ┆ I am not primarily a ┆ Employed, full-time; ┆ Bachelor’s degree   ┆ 35-44 years old │\n",
       " │            ┆ developer, …         ┆ Independent …        ┆ (B.A., B.S., B…     ┆                 │\n",
       " │ 13         ┆ I am a developer by  ┆ Employed, full-time  ┆ Bachelor’s degree   ┆ 25-34 years old │\n",
       " │            ┆ profession           ┆                      ┆ (B.A., B.S., B…     ┆                 │\n",
       " │ 15         ┆ I am a developer by  ┆ Employed, full-time; ┆ Master’s degree     ┆ 25-34 years old │\n",
       " │            ┆ profession           ┆ Independent …        ┆ (M.A., M.S., M.E…   ┆                 │\n",
       " │ 27         ┆ I am a developer by  ┆ Employed, full-time  ┆ Bachelor’s degree   ┆ 25-34 years old │\n",
       " │            ┆ profession           ┆                      ┆ (B.A., B.S., B…     ┆                 │\n",
       " └────────────┴──────────────────────┴──────────────────────┴─────────────────────┴─────────────────┘)"
      ]
     },
     "execution_count": 176,
     "metadata": {},
     "output_type": "execute_result"
    }
   ],
   "source": [
    "#plot dev status by degree\n",
    "dev_status = metadata.df.select(\n",
    "    [\"ResponseId\",\"MainBranch\",\"Employment\",\"EdLevel\",\"Age\"]\n",
    ")\n",
    "\n",
    "df_dim(dev_status),dev_status.head()"
   ]
  },
  {
   "cell_type": "code",
   "execution_count": 177,
   "metadata": {},
   "outputs": [
    {
     "name": "stdout",
     "output_type": "stream",
     "text": [
      "shape: (1, 5)\n",
      "┌────────────┬────────────┬────────────┬─────────┬─────┐\n",
      "│ ResponseId ┆ MainBranch ┆ Employment ┆ EdLevel ┆ Age │\n",
      "│ ---        ┆ ---        ┆ ---        ┆ ---     ┆ --- │\n",
      "│ u32        ┆ u32        ┆ u32        ┆ u32     ┆ u32 │\n",
      "╞════════════╪════════════╪════════════╪═════════╪═════╡\n",
      "│ 0          ┆ 0          ┆ 0          ┆ 0       ┆ 0   │\n",
      "└────────────┴────────────┴────────────┴─────────┴─────┘\n"
     ]
    }
   ],
   "source": [
    "#null count\n",
    "null_count = dev_status.null_count()\n",
    "print(null_count)"
   ]
  },
  {
   "cell_type": "code",
   "execution_count": 178,
   "metadata": {},
   "outputs": [],
   "source": [
    "def allLevels(colName,df=metadata.df):\n",
    "    print(df[colName].unique())"
   ]
  },
  {
   "cell_type": "code",
   "execution_count": 179,
   "metadata": {},
   "outputs": [
    {
     "name": "stdout",
     "output_type": "stream",
     "text": [
      "shape: (5,)\n",
      "Series: 'MainBranch' [str]\n",
      "[\n",
      "\t\"I am learning …\n",
      "\t\"I code primari…\n",
      "\t\"I am not prima…\n",
      "\t\"I am a develop…\n",
      "\t\"I used to be a…\n",
      "]\n"
     ]
    }
   ],
   "source": [
    "allLevels(\"MainBranch\")"
   ]
  },
  {
   "cell_type": "code",
   "execution_count": 180,
   "metadata": {},
   "outputs": [
    {
     "name": "stdout",
     "output_type": "stream",
     "text": [
      "shape: (2,)\n",
      "Series: 'MainBranch' [str]\n",
      "[\n",
      "\t\"I am a develop…\n",
      "\t\"I code primari…\n",
      "]\n"
     ]
    }
   ],
   "source": [
    "#rm responses from those not working professionally\n",
    "pro_dev = metadata.df.filter(\n",
    "    (pl.col(\"MainBranch\") != \"I am not primarily a developer, but I write code sometimes as part of my work\") &\n",
    "    (pl.col(\"MainBranch\") != \"I am learning to code\") &\n",
    "    (pl.col(\"MainBranch\") != \"I used to be a developer by profession, but no longer am\")\n",
    ")\n",
    "\n",
    "allLevels(\"MainBranch\",pro_dev)"
   ]
  }
 ],
 "metadata": {
  "kernelspec": {
   "display_name": "Python 3",
   "language": "python",
   "name": "python3"
  },
  "language_info": {
   "codemirror_mode": {
    "name": "ipython",
    "version": 3
   },
   "file_extension": ".py",
   "mimetype": "text/x-python",
   "name": "python",
   "nbconvert_exporter": "python",
   "pygments_lexer": "ipython3",
   "version": "3.11.4"
  },
  "orig_nbformat": 4
 },
 "nbformat": 4,
 "nbformat_minor": 2
}
