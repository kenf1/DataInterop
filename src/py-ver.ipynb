{
 "cells": [
  {
   "cell_type": "markdown",
   "metadata": {},
   "source": [
    "## Data Interoperability Ex\n",
    "\n",
    "Goals:\n",
    "- compare pandas to polars\n",
    "- work with parquet files"
   ]
  },
  {
   "cell_type": "code",
   "execution_count": 1,
   "metadata": {},
   "outputs": [],
   "source": [
    "import pandas as pd\n",
    "import polars as pl\n",
    "import parquet as pq"
   ]
  },
  {
   "cell_type": "code",
   "execution_count": 2,
   "metadata": {},
   "outputs": [],
   "source": [
    "source = \"https://raw.githubusercontent.com/kenf1/ITTF-Autoscrape/main/data/SEN_MD-data.csv\""
   ]
  },
  {
   "cell_type": "markdown",
   "metadata": {},
   "source": [
    "### Import csv\n",
    "\n",
    "- read csv from website"
   ]
  },
  {
   "cell_type": "code",
   "execution_count": 3,
   "metadata": {},
   "outputs": [
    {
     "name": "stdout",
     "output_type": "stream",
     "text": [
      "CPU times: user 28.2 ms, sys: 2.31 ms, total: 30.5 ms\n",
      "Wall time: 231 ms\n"
     ]
    },
    {
     "data": {
      "text/html": [
       "<div>\n",
       "<style scoped>\n",
       "    .dataframe tbody tr th:only-of-type {\n",
       "        vertical-align: middle;\n",
       "    }\n",
       "\n",
       "    .dataframe tbody tr th {\n",
       "        vertical-align: top;\n",
       "    }\n",
       "\n",
       "    .dataframe thead th {\n",
       "        text-align: right;\n",
       "    }\n",
       "</style>\n",
       "<table border=\"1\" class=\"dataframe\">\n",
       "  <thead>\n",
       "    <tr style=\"text-align: right;\">\n",
       "      <th></th>\n",
       "      <th>Rank Only</th>\n",
       "      <th>Rank Change</th>\n",
       "      <th>Name</th>\n",
       "      <th>Assoc</th>\n",
       "      <th>Points</th>\n",
       "    </tr>\n",
       "  </thead>\n",
       "  <tbody>\n",
       "    <tr>\n",
       "      <th>0</th>\n",
       "      <td>1</td>\n",
       "      <td>NaN</td>\n",
       "      <td>FAN Zhendong / WANG Chuqin</td>\n",
       "      <td>CHN</td>\n",
       "      <td>6040</td>\n",
       "    </tr>\n",
       "    <tr>\n",
       "      <th>1</th>\n",
       "      <td>2</td>\n",
       "      <td>NaN</td>\n",
       "      <td>JANG Woojin / LIM Jonghoon</td>\n",
       "      <td>KOR</td>\n",
       "      <td>4390</td>\n",
       "    </tr>\n",
       "    <tr>\n",
       "      <th>2</th>\n",
       "      <td>3</td>\n",
       "      <td>NaN</td>\n",
       "      <td>Yukiya UDA / Shunsuke TOGAMI</td>\n",
       "      <td>JPN</td>\n",
       "      <td>3555</td>\n",
       "    </tr>\n",
       "    <tr>\n",
       "      <th>3</th>\n",
       "      <td>4</td>\n",
       "      <td>NaN</td>\n",
       "      <td>Dang QIU / Benedikt DUDA</td>\n",
       "      <td>GER</td>\n",
       "      <td>1895</td>\n",
       "    </tr>\n",
       "    <tr>\n",
       "      <th>4</th>\n",
       "      <td>5</td>\n",
       "      <td>NaN</td>\n",
       "      <td>CHO Seungmin / AN Jaehyun</td>\n",
       "      <td>KOR</td>\n",
       "      <td>1515</td>\n",
       "    </tr>\n",
       "  </tbody>\n",
       "</table>\n",
       "</div>"
      ],
      "text/plain": [
       "   Rank Only Rank Change                          Name Assoc  Points\n",
       "0          1         NaN    FAN Zhendong / WANG Chuqin   CHN    6040\n",
       "1          2         NaN    JANG Woojin / LIM Jonghoon   KOR    4390\n",
       "2          3         NaN  Yukiya UDA / Shunsuke TOGAMI   JPN    3555\n",
       "3          4         NaN      Dang QIU / Benedikt DUDA   GER    1895\n",
       "4          5         NaN     CHO Seungmin / AN Jaehyun   KOR    1515"
      ]
     },
     "execution_count": 3,
     "metadata": {},
     "output_type": "execute_result"
    }
   ],
   "source": [
    "%%time\n",
    "pandas_df = pd.read_csv(source)\n",
    "pandas_df.head()"
   ]
  },
  {
   "cell_type": "code",
   "execution_count": 4,
   "metadata": {},
   "outputs": [
    {
     "name": "stdout",
     "output_type": "stream",
     "text": [
      "CPU times: user 40.8 ms, sys: 6.73 ms, total: 47.6 ms\n",
      "Wall time: 280 ms\n"
     ]
    },
    {
     "data": {
      "text/html": [
       "<div><style>\n",
       ".dataframe > thead > tr > th,\n",
       ".dataframe > tbody > tr > td {\n",
       "  text-align: right;\n",
       "}\n",
       "</style>\n",
       "<small>shape: (5, 5)</small><table border=\"1\" class=\"dataframe\"><thead><tr><th>Rank Only</th><th>Rank Change</th><th>Name</th><th>Assoc</th><th>Points</th></tr><tr><td>i64</td><td>str</td><td>str</td><td>str</td><td>i64</td></tr></thead><tbody><tr><td>1</td><td>null</td><td>&quot;FAN Zhendong /…</td><td>&quot;CHN&quot;</td><td>6040</td></tr><tr><td>2</td><td>null</td><td>&quot;JANG Woojin / …</td><td>&quot;KOR&quot;</td><td>4390</td></tr><tr><td>3</td><td>null</td><td>&quot;Yukiya UDA / S…</td><td>&quot;JPN&quot;</td><td>3555</td></tr><tr><td>4</td><td>null</td><td>&quot;Dang QIU / Ben…</td><td>&quot;GER&quot;</td><td>1895</td></tr><tr><td>5</td><td>null</td><td>&quot;CHO Seungmin /…</td><td>&quot;KOR&quot;</td><td>1515</td></tr></tbody></table></div>"
      ],
      "text/plain": [
       "shape: (5, 5)\n",
       "┌───────────┬─────────────┬──────────────────────────────┬───────┬────────┐\n",
       "│ Rank Only ┆ Rank Change ┆ Name                         ┆ Assoc ┆ Points │\n",
       "│ ---       ┆ ---         ┆ ---                          ┆ ---   ┆ ---    │\n",
       "│ i64       ┆ str         ┆ str                          ┆ str   ┆ i64    │\n",
       "╞═══════════╪═════════════╪══════════════════════════════╪═══════╪════════╡\n",
       "│ 1         ┆ null        ┆ FAN Zhendong / WANG Chuqin   ┆ CHN   ┆ 6040   │\n",
       "│ 2         ┆ null        ┆ JANG Woojin / LIM Jonghoon   ┆ KOR   ┆ 4390   │\n",
       "│ 3         ┆ null        ┆ Yukiya UDA / Shunsuke TOGAMI ┆ JPN   ┆ 3555   │\n",
       "│ 4         ┆ null        ┆ Dang QIU / Benedikt DUDA     ┆ GER   ┆ 1895   │\n",
       "│ 5         ┆ null        ┆ CHO Seungmin / AN Jaehyun    ┆ KOR   ┆ 1515   │\n",
       "└───────────┴─────────────┴──────────────────────────────┴───────┴────────┘"
      ]
     },
     "execution_count": 4,
     "metadata": {},
     "output_type": "execute_result"
    }
   ],
   "source": [
    "%%time\n",
    "polars_df = pl.read_csv(source)\n",
    "polars_df.head()"
   ]
  },
  {
   "cell_type": "markdown",
   "metadata": {},
   "source": [
    "### Multiple filters\n",
    "\n",
    "filter dataframe by:\n",
    "- ranks 1:30 (include 30)\n",
    "- country"
   ]
  },
  {
   "cell_type": "code",
   "execution_count": 5,
   "metadata": {},
   "outputs": [
    {
     "name": "stdout",
     "output_type": "stream",
     "text": [
      "CPU times: user 789 µs, sys: 2 ms, total: 2.79 ms\n",
      "Wall time: 2.2 ms\n"
     ]
    },
    {
     "data": {
      "text/html": [
       "<div>\n",
       "<style scoped>\n",
       "    .dataframe tbody tr th:only-of-type {\n",
       "        vertical-align: middle;\n",
       "    }\n",
       "\n",
       "    .dataframe tbody tr th {\n",
       "        vertical-align: top;\n",
       "    }\n",
       "\n",
       "    .dataframe thead th {\n",
       "        text-align: right;\n",
       "    }\n",
       "</style>\n",
       "<table border=\"1\" class=\"dataframe\">\n",
       "  <thead>\n",
       "    <tr style=\"text-align: right;\">\n",
       "      <th></th>\n",
       "      <th>Rank Only</th>\n",
       "      <th>Rank Change</th>\n",
       "      <th>Name</th>\n",
       "      <th>Assoc</th>\n",
       "      <th>Points</th>\n",
       "    </tr>\n",
       "  </thead>\n",
       "  <tbody>\n",
       "    <tr>\n",
       "      <th>0</th>\n",
       "      <td>1</td>\n",
       "      <td>NaN</td>\n",
       "      <td>FAN Zhendong / WANG Chuqin</td>\n",
       "      <td>CHN</td>\n",
       "      <td>6040</td>\n",
       "    </tr>\n",
       "    <tr>\n",
       "      <th>11</th>\n",
       "      <td>12</td>\n",
       "      <td>NaN</td>\n",
       "      <td>LIN Gaoyuan / LIN Shidong</td>\n",
       "      <td>CHN</td>\n",
       "      <td>950</td>\n",
       "    </tr>\n",
       "    <tr>\n",
       "      <th>14</th>\n",
       "      <td>15</td>\n",
       "      <td>NaN</td>\n",
       "      <td>CHEN Yuanyu / LIN Shidong</td>\n",
       "      <td>CHN</td>\n",
       "      <td>769</td>\n",
       "    </tr>\n",
       "    <tr>\n",
       "      <th>22</th>\n",
       "      <td>23</td>\n",
       "      <td>NaN</td>\n",
       "      <td>XIANG Peng / LIN Shidong</td>\n",
       "      <td>CHN</td>\n",
       "      <td>594</td>\n",
       "    </tr>\n",
       "    <tr>\n",
       "      <th>23</th>\n",
       "      <td>24</td>\n",
       "      <td>NaN</td>\n",
       "      <td>YUAN Licen / XIANG Peng</td>\n",
       "      <td>CHN</td>\n",
       "      <td>570</td>\n",
       "    </tr>\n",
       "  </tbody>\n",
       "</table>\n",
       "</div>"
      ],
      "text/plain": [
       "    Rank Only Rank Change                        Name Assoc  Points\n",
       "0           1         NaN  FAN Zhendong / WANG Chuqin   CHN    6040\n",
       "11         12         NaN   LIN Gaoyuan / LIN Shidong   CHN     950\n",
       "14         15         NaN   CHEN Yuanyu / LIN Shidong   CHN     769\n",
       "22         23         NaN    XIANG Peng / LIN Shidong   CHN     594\n",
       "23         24         NaN     YUAN Licen / XIANG Peng   CHN     570"
      ]
     },
     "execution_count": 5,
     "metadata": {},
     "output_type": "execute_result"
    }
   ],
   "source": [
    "%%time\n",
    "new_pandas_df = pandas_df.loc[(pandas_df[\"Rank Only\"]<=30) & (pandas_df[\"Assoc\"] == \"CHN\")]\n",
    "new_pandas_df.head()"
   ]
  },
  {
   "cell_type": "code",
   "execution_count": 6,
   "metadata": {},
   "outputs": [
    {
     "name": "stdout",
     "output_type": "stream",
     "text": [
      "CPU times: user 456 µs, sys: 4 ms, total: 4.45 ms\n",
      "Wall time: 2.53 ms\n"
     ]
    },
    {
     "data": {
      "text/html": [
       "<div><style>\n",
       ".dataframe > thead > tr > th,\n",
       ".dataframe > tbody > tr > td {\n",
       "  text-align: right;\n",
       "}\n",
       "</style>\n",
       "<small>shape: (5, 5)</small><table border=\"1\" class=\"dataframe\"><thead><tr><th>Rank Only</th><th>Rank Change</th><th>Name</th><th>Assoc</th><th>Points</th></tr><tr><td>i64</td><td>str</td><td>str</td><td>str</td><td>i64</td></tr></thead><tbody><tr><td>1</td><td>null</td><td>&quot;FAN Zhendong /…</td><td>&quot;CHN&quot;</td><td>6040</td></tr><tr><td>12</td><td>null</td><td>&quot;LIN Gaoyuan / …</td><td>&quot;CHN&quot;</td><td>950</td></tr><tr><td>15</td><td>null</td><td>&quot;CHEN Yuanyu / …</td><td>&quot;CHN&quot;</td><td>769</td></tr><tr><td>23</td><td>null</td><td>&quot;XIANG Peng / L…</td><td>&quot;CHN&quot;</td><td>594</td></tr><tr><td>24</td><td>null</td><td>&quot;YUAN Licen / X…</td><td>&quot;CHN&quot;</td><td>570</td></tr></tbody></table></div>"
      ],
      "text/plain": [
       "shape: (5, 5)\n",
       "┌───────────┬─────────────┬────────────────────────────┬───────┬────────┐\n",
       "│ Rank Only ┆ Rank Change ┆ Name                       ┆ Assoc ┆ Points │\n",
       "│ ---       ┆ ---         ┆ ---                        ┆ ---   ┆ ---    │\n",
       "│ i64       ┆ str         ┆ str                        ┆ str   ┆ i64    │\n",
       "╞═══════════╪═════════════╪════════════════════════════╪═══════╪════════╡\n",
       "│ 1         ┆ null        ┆ FAN Zhendong / WANG Chuqin ┆ CHN   ┆ 6040   │\n",
       "│ 12        ┆ null        ┆ LIN Gaoyuan / LIN Shidong  ┆ CHN   ┆ 950    │\n",
       "│ 15        ┆ null        ┆ CHEN Yuanyu / LIN Shidong  ┆ CHN   ┆ 769    │\n",
       "│ 23        ┆ null        ┆ XIANG Peng / LIN Shidong   ┆ CHN   ┆ 594    │\n",
       "│ 24        ┆ null        ┆ YUAN Licen / XIANG Peng    ┆ CHN   ┆ 570    │\n",
       "└───────────┴─────────────┴────────────────────────────┴───────┴────────┘"
      ]
     },
     "execution_count": 6,
     "metadata": {},
     "output_type": "execute_result"
    }
   ],
   "source": [
    "%%time\n",
    "new_polars_df = polars_df.filter(\n",
    "    (pl.col(\"Rank Only\")<=30) & (pl.col(\"Assoc\")==\"CHN\")\n",
    ")\n",
    "new_polars_df.head()"
   ]
  },
  {
   "cell_type": "markdown",
   "metadata": {},
   "source": [
    "### Write to parquet\n",
    "\n",
    "- using pyarrow because it is default for pandas [source](https://pandas.pydata.org/pandas-docs/stable/reference/api/pandas.DataFrame.to_parquet.html)"
   ]
  },
  {
   "cell_type": "code",
   "execution_count": 7,
   "metadata": {},
   "outputs": [],
   "source": [
    "class outputs:\n",
    "    home_dir = \"../data/\"\n",
    "    pd = home_dir+\"pd\"+\".parquet\"\n",
    "    pl = home_dir+\"pl\"+\".parquet\""
   ]
  },
  {
   "cell_type": "code",
   "execution_count": 8,
   "metadata": {},
   "outputs": [
    {
     "name": "stdout",
     "output_type": "stream",
     "text": [
      "CPU times: user 14.1 ms, sys: 2.52 ms, total: 16.7 ms\n",
      "Wall time: 34.1 ms\n"
     ]
    }
   ],
   "source": [
    "%%time\n",
    "new_pandas_df.to_parquet(outputs.pd)"
   ]
  },
  {
   "cell_type": "code",
   "execution_count": 9,
   "metadata": {},
   "outputs": [
    {
     "name": "stdout",
     "output_type": "stream",
     "text": [
      "CPU times: user 3.96 ms, sys: 12.8 ms, total: 16.8 ms\n",
      "Wall time: 172 ms\n"
     ]
    }
   ],
   "source": [
    "%%time\n",
    "new_polars_df.write_parquet(outputs.pl)"
   ]
  },
  {
   "cell_type": "markdown",
   "metadata": {},
   "source": [
    "### Read from parquet"
   ]
  },
  {
   "cell_type": "code",
   "execution_count": 10,
   "metadata": {},
   "outputs": [
    {
     "name": "stdout",
     "output_type": "stream",
     "text": [
      "CPU times: user 5.47 ms, sys: 4.38 ms, total: 9.85 ms\n",
      "Wall time: 7.63 ms\n"
     ]
    }
   ],
   "source": [
    "%%time\n",
    "new_pd = pd.read_parquet(outputs.pd)"
   ]
  },
  {
   "cell_type": "code",
   "execution_count": 11,
   "metadata": {},
   "outputs": [
    {
     "name": "stdout",
     "output_type": "stream",
     "text": [
      "CPU times: user 1.05 ms, sys: 193 µs, total: 1.24 ms\n",
      "Wall time: 3.67 ms\n"
     ]
    }
   ],
   "source": [
    "%%time\n",
    "new_pl = pl.read_parquet(outputs.pl)"
   ]
  },
  {
   "cell_type": "markdown",
   "metadata": {},
   "source": [
    "## Conclusion\n",
    "\n",
    "In almost all cases, [polars](https://www.pola.rs/) is faster than [pandas](https://pandas.pydata.org/). The syntax is very similar to pandas and thus does not require much to convert current and future workflows over to polars."
   ]
  }
 ],
 "metadata": {
  "kernelspec": {
   "display_name": "Python 3",
   "language": "python",
   "name": "python3"
  },
  "language_info": {
   "codemirror_mode": {
    "name": "ipython",
    "version": 3
   },
   "file_extension": ".py",
   "mimetype": "text/x-python",
   "name": "python",
   "nbconvert_exporter": "python",
   "pygments_lexer": "ipython3",
   "version": "3.11.4"
  },
  "orig_nbformat": 4
 },
 "nbformat": 4,
 "nbformat_minor": 2
}
