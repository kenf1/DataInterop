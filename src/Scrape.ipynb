{
 "cells": [
  {
   "cell_type": "markdown",
   "metadata": {},
   "source": [
    "## Scrape to Polars\n",
    "\n",
    "Use pandas to scrape html table then convert to polars df"
   ]
  },
  {
   "cell_type": "code",
   "execution_count": 1,
   "metadata": {},
   "outputs": [],
   "source": [
    "import pandas as pd\n",
    "import polars as pl"
   ]
  },
  {
   "cell_type": "code",
   "execution_count": 2,
   "metadata": {},
   "outputs": [],
   "source": [
    "src = \"https://en.wikipedia.org/wiki/Python_(programming_language)\"\n",
    "\n",
    "temp = pd.read_html(src)"
   ]
  },
  {
   "cell_type": "code",
   "execution_count": 3,
   "metadata": {},
   "outputs": [
    {
     "data": {
      "text/html": [
       "<div>\n",
       "<style scoped>\n",
       "    .dataframe tbody tr th:only-of-type {\n",
       "        vertical-align: middle;\n",
       "    }\n",
       "\n",
       "    .dataframe tbody tr th {\n",
       "        vertical-align: top;\n",
       "    }\n",
       "\n",
       "    .dataframe thead th {\n",
       "        text-align: right;\n",
       "    }\n",
       "</style>\n",
       "<table border=\"1\" class=\"dataframe\">\n",
       "  <thead>\n",
       "    <tr style=\"text-align: right;\">\n",
       "      <th></th>\n",
       "      <th>Type</th>\n",
       "      <th>Mutability</th>\n",
       "      <th>Description</th>\n",
       "      <th>Syntax examples</th>\n",
       "    </tr>\n",
       "  </thead>\n",
       "  <tbody>\n",
       "    <tr>\n",
       "      <th>0</th>\n",
       "      <td>bool</td>\n",
       "      <td>immutable</td>\n",
       "      <td>Boolean value</td>\n",
       "      <td>True False</td>\n",
       "    </tr>\n",
       "    <tr>\n",
       "      <th>1</th>\n",
       "      <td>bytearray</td>\n",
       "      <td>mutable</td>\n",
       "      <td>Sequence of bytes</td>\n",
       "      <td>bytearray(b'Some ASCII') bytearray(b\"Some ASCI...</td>\n",
       "    </tr>\n",
       "    <tr>\n",
       "      <th>2</th>\n",
       "      <td>bytes</td>\n",
       "      <td>immutable</td>\n",
       "      <td>Sequence of bytes</td>\n",
       "      <td>b'Some ASCII' b\"Some ASCII\" bytes([119, 105, 1...</td>\n",
       "    </tr>\n",
       "    <tr>\n",
       "      <th>3</th>\n",
       "      <td>complex</td>\n",
       "      <td>immutable</td>\n",
       "      <td>Complex number with real and imaginary parts</td>\n",
       "      <td>3+2.7j 3 + 2.7j</td>\n",
       "    </tr>\n",
       "    <tr>\n",
       "      <th>4</th>\n",
       "      <td>dict</td>\n",
       "      <td>mutable</td>\n",
       "      <td>Associative array (or dictionary) of key and v...</td>\n",
       "      <td>{'key1': 1.0, 3: False} {}</td>\n",
       "    </tr>\n",
       "  </tbody>\n",
       "</table>\n",
       "</div>"
      ],
      "text/plain": [
       "        Type Mutability                                        Description  \\\n",
       "0       bool  immutable                                      Boolean value   \n",
       "1  bytearray    mutable                                  Sequence of bytes   \n",
       "2      bytes  immutable                                  Sequence of bytes   \n",
       "3    complex  immutable       Complex number with real and imaginary parts   \n",
       "4       dict    mutable  Associative array (or dictionary) of key and v...   \n",
       "\n",
       "                                     Syntax examples  \n",
       "0                                         True False  \n",
       "1  bytearray(b'Some ASCII') bytearray(b\"Some ASCI...  \n",
       "2  b'Some ASCII' b\"Some ASCII\" bytes([119, 105, 1...  \n",
       "3                                    3+2.7j 3 + 2.7j  \n",
       "4                         {'key1': 1.0, 3: False} {}  "
      ]
     },
     "execution_count": 3,
     "metadata": {},
     "output_type": "execute_result"
    }
   ],
   "source": [
    "temp[1].head()"
   ]
  },
  {
   "cell_type": "code",
   "execution_count": 4,
   "metadata": {},
   "outputs": [
    {
     "data": {
      "text/html": [
       "<div><style>\n",
       ".dataframe > thead > tr > th,\n",
       ".dataframe > tbody > tr > td {\n",
       "  text-align: right;\n",
       "}\n",
       "</style>\n",
       "<small>shape: (5, 4)</small><table border=\"1\" class=\"dataframe\"><thead><tr><th>Type</th><th>Mutability</th><th>Description</th><th>Syntax examples</th></tr><tr><td>str</td><td>str</td><td>str</td><td>str</td></tr></thead><tbody><tr><td>&quot;bool&quot;</td><td>&quot;immutable&quot;</td><td>&quot;Boolean value&quot;</td><td>&quot;True False&quot;</td></tr><tr><td>&quot;bytearray&quot;</td><td>&quot;mutable&quot;</td><td>&quot;Sequence of by…</td><td>&quot;bytearray(b&#x27;So…</td></tr><tr><td>&quot;bytes&quot;</td><td>&quot;immutable&quot;</td><td>&quot;Sequence of by…</td><td>&quot;b&#x27;Some ASCII&#x27; …</td></tr><tr><td>&quot;complex&quot;</td><td>&quot;immutable&quot;</td><td>&quot;Complex number…</td><td>&quot;3+2.7j 3 + 2.7…</td></tr><tr><td>&quot;dict&quot;</td><td>&quot;mutable&quot;</td><td>&quot;Associative ar…</td><td>&quot;{&#x27;key1&#x27;: 1.0, …</td></tr></tbody></table></div>"
      ],
      "text/plain": [
       "shape: (5, 4)\n",
       "┌───────────┬────────────┬───────────────────────────────────┬───────────────────────────────────┐\n",
       "│ Type      ┆ Mutability ┆ Description                       ┆ Syntax examples                   │\n",
       "│ ---       ┆ ---        ┆ ---                               ┆ ---                               │\n",
       "│ str       ┆ str        ┆ str                               ┆ str                               │\n",
       "╞═══════════╪════════════╪═══════════════════════════════════╪═══════════════════════════════════╡\n",
       "│ bool      ┆ immutable  ┆ Boolean value                     ┆ True False                        │\n",
       "│ bytearray ┆ mutable    ┆ Sequence of bytes                 ┆ bytearray(b'Some ASCII') bytearr… │\n",
       "│ bytes     ┆ immutable  ┆ Sequence of bytes                 ┆ b'Some ASCII' b\"Some ASCII\" byte… │\n",
       "│ complex   ┆ immutable  ┆ Complex number with real and ima… ┆ 3+2.7j 3 + 2.7j                   │\n",
       "│ dict      ┆ mutable    ┆ Associative array (or dictionary… ┆ {'key1': 1.0, 3: False} {}        │\n",
       "└───────────┴────────────┴───────────────────────────────────┴───────────────────────────────────┘"
      ]
     },
     "execution_count": 4,
     "metadata": {},
     "output_type": "execute_result"
    }
   ],
   "source": [
    "pl_ver = pl.from_pandas(temp[1])\n",
    "pl_ver.head()"
   ]
  }
 ],
 "metadata": {
  "kernelspec": {
   "display_name": "Python 3 (ipykernel)",
   "language": "python",
   "name": "python3"
  },
  "language_info": {
   "codemirror_mode": {
    "name": "ipython",
    "version": 3
   },
   "file_extension": ".py",
   "mimetype": "text/x-python",
   "name": "python",
   "nbconvert_exporter": "python",
   "pygments_lexer": "ipython3",
   "version": "3.11.4"
  },
  "orig_nbformat": 4
 },
 "nbformat": 4,
 "nbformat_minor": 2
}
